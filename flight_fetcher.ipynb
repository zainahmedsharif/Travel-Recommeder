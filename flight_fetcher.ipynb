{
 "cells": [
  {
   "cell_type": "code",
   "execution_count": 1,
   "metadata": {},
   "outputs": [
    {
     "name": "stderr",
     "output_type": "stream",
     "text": [
      "/tmp/ipykernel_40737/3598770200.py:17: LangChainDeprecationWarning: The class `ChatOpenAI` was deprecated in LangChain 0.0.10 and will be removed in 1.0. An updated version of the class exists in the :class:`~langchain-openai package and should be used instead. To use it run `pip install -U :class:`~langchain-openai` and import as `from :class:`~langchain_openai import ChatOpenAI``.\n",
      "  llm = ChatOpenAI(temperature=0.7, openai_api_key=os.getenv(\"OPENAI_API_KEY\"))\n"
     ]
    }
   ],
   "source": [
    "from amadeus import Client, ResponseError\n",
    "from dotenv import load_dotenv\n",
    "from langchain.prompts import PromptTemplate\n",
    "from langchain.chat_models import ChatOpenAI\n",
    "import os\n",
    "\n",
    "# Load environment variables\n",
    "load_dotenv()\n",
    "\n",
    "# Initialize Amadeus Client\n",
    "amadeus = Client(\n",
    "    client_id=os.getenv('AMADEUS_KEY'),\n",
    "    client_secret=os.getenv('AMADEUS_SECRET')\n",
    ")\n",
    "\n",
    "# Initialize LLM\n",
    "llm = ChatOpenAI(temperature=0.7, openai_api_key=os.getenv(\"OPENAI_API_KEY\"))\n",
    "\n",
    "def fetch_flight_costs(origin, destination, departure_date, adults=1):\n",
    "    try:\n",
    "        response = amadeus.shopping.flight_offers_search.get(\n",
    "            originLocationCode=origin,\n",
    "            destinationLocationCode=destination,\n",
    "            departureDate=departure_date,\n",
    "            adults=adults\n",
    "        )\n",
    "        flights = response.data\n",
    "        return [\n",
    "            {\n",
    "                \"origin\": origin,\n",
    "                \"destination\": flight['itineraries'][0]['segments'][0]['arrival']['iataCode'],\n",
    "                \"price\": flight['price']['total'],\n",
    "                \"departure_time\": flight['itineraries'][0]['segments'][0]['departure']['at']\n",
    "            }\n",
    "            for flight in flights\n",
    "        ]\n",
    "    except ResponseError as error:\n",
    "        print(\"Error fetching flight costs:\", error)\n",
    "        return []\n",
    "\n",
    "\n"
   ]
  },
  {
   "cell_type": "code",
   "execution_count": 2,
   "metadata": {},
   "outputs": [
    {
     "name": "stderr",
     "output_type": "stream",
     "text": [
      "/tmp/ipykernel_40737/2061364901.py:22: LangChainDeprecationWarning: The method `BaseChatModel.predict` was deprecated in langchain-core 0.1.7 and will be removed in 1.0. Use :meth:`~invoke` instead.\n",
      "  response = llm.predict(formatted_prompt)\n"
     ]
    },
    {
     "name": "stdout",
     "output_type": "stream",
     "text": [
      "{'origin': 'MAD', 'destination': 'KHI', 'departure_date': '2025-10-10', 'adults': 2}\n"
     ]
    }
   ],
   "source": [
    "def extract_flight_parameters(user_query):\n",
    "    \"\"\"\n",
    "    Uses the LLM to extract flight search parameters from the user's query.\n",
    "    \"\"\"\n",
    "    prompt = PromptTemplate(\n",
    "    input_variables=[\"query\"],\n",
    "    template=\"\"\"\n",
    "    Extract flight search parameters from the following user query.\n",
    "    Return the response as a JSON object with the keys: origin, destination, departure_date, adults.\n",
    "\n",
    "    - The 'origin' and 'destination' keys must contain valid IATA codes (e.g., 'JFK', 'LAX').\n",
    "    - The 'departure_date' key must be in 'YYYY-MM-DD' format only. If the query specifies a relative date (e.g., 'next week'), convert it into 'YYYY-MM-DD' format.\n",
    "    - The 'adults' key must be an integer. If not mentioned, default to 1.\n",
    "\n",
    "    If any key cannot be determined, set its value to null.\n",
    "\n",
    "    User Query: {query}\n",
    "    \"\"\"\n",
    ")\n",
    "    \n",
    "    formatted_prompt = prompt.format(query=user_query)\n",
    "    response = llm.predict(formatted_prompt)\n",
    "    return eval(response)  # Assuming the response is valid JSON-like text\n",
    "\n",
    "def llm_agent_query_flights(user_query):\n",
    "    \"\"\"\n",
    "    Integrates the LLM for parameter extraction and fetches flight data using Amadeus API.\n",
    "    \"\"\"\n",
    "    # Step 1: Use the LLM to extract parameters\n",
    "    params = extract_flight_parameters(user_query)\n",
    "    \n",
    "    # Validate extracted parameters\n",
    "    required_keys = ['origin', 'destination', 'departure_date']\n",
    "    if not all(params.get(key) for key in required_keys):\n",
    "        return {\"error\": \"Missing required parameters in query. Please provide origin, destination, and departure date.\"}\n",
    "    print(params)\n",
    "    \n",
    "    # Step 2: Fetch flight data\n",
    "    flights = fetch_flight_costs(\n",
    "        origin=params['origin'],\n",
    "        destination=params['destination'],\n",
    "        departure_date=params['departure_date'],\n",
    "        adults=params.get('adults', 1)\n",
    "    )\n",
    "    \n",
    "    return flights\n",
    "\n",
    "# Example Usage\n",
    "user_query = \"I need a flight from Madrid to Karachi around October 10th, 2025 for 2 people.\"\n",
    "print(extract_flight_parameters(user_query))"
   ]
  },
  {
   "cell_type": "code",
   "execution_count": 3,
   "metadata": {},
   "outputs": [
    {
     "name": "stdout",
     "output_type": "stream",
     "text": [
      "{'origin': 'MAD', 'destination': 'KHI', 'departure_date': '2025-10-10', 'adults': 2}\n",
      "Origin: MAD, Destination: MUC, Price: $699.30, Departure: 2025-10-10T18:20:00\n",
      "Origin: MAD, Destination: MUC, Price: $783.30, Departure: 2025-10-10T14:55:00\n",
      "Origin: MAD, Destination: FRA, Price: $795.42, Departure: 2025-10-10T05:55:00\n",
      "Origin: MAD, Destination: IST, Price: $1060.14, Departure: 2025-10-10T14:30:00\n",
      "Origin: MAD, Destination: IST, Price: $1060.14, Departure: 2025-10-10T12:00:00\n",
      "Origin: MAD, Destination: DXB, Price: $1332.96, Departure: 2025-10-10T22:05:00\n",
      "Origin: MAD, Destination: DXB, Price: $1332.96, Departure: 2025-10-10T15:25:00\n",
      "Origin: MAD, Destination: DXB, Price: $1332.96, Departure: 2025-10-10T15:25:00\n",
      "Origin: MAD, Destination: DXB, Price: $1332.96, Departure: 2025-10-10T22:05:00\n",
      "Origin: MAD, Destination: DXB, Price: $1836.96, Departure: 2025-10-10T22:05:00\n",
      "Origin: MAD, Destination: FCO, Price: $4066.90, Departure: 2025-10-10T05:50:00\n",
      "Origin: MAD, Destination: BCN, Price: $4215.14, Departure: 2025-10-10T18:00:00\n",
      "Origin: MAD, Destination: FRA, Price: $5907.48, Departure: 2025-10-10T17:05:00\n",
      "Origin: MAD, Destination: MUC, Price: $5923.64, Departure: 2025-10-10T18:20:00\n"
     ]
    }
   ],
   "source": [
    "results = llm_agent_query_flights(user_query)\n",
    "\n",
    "if \"error\" in results:\n",
    "    print(results[\"error\"])\n",
    "else:\n",
    "    for flight in results:\n",
    "        print(f\"Origin: {flight['origin']}, Destination: {flight['destination']}, \"\n",
    "              f\"Price: ${flight['price']}, Departure: {flight['departure_time']}\")\n"
   ]
  }
 ],
 "metadata": {
  "kernelspec": {
   "display_name": "env",
   "language": "python",
   "name": "python3"
  },
  "language_info": {
   "codemirror_mode": {
    "name": "ipython",
    "version": 3
   },
   "file_extension": ".py",
   "mimetype": "text/x-python",
   "name": "python",
   "nbconvert_exporter": "python",
   "pygments_lexer": "ipython3",
   "version": "3.12.3"
  }
 },
 "nbformat": 4,
 "nbformat_minor": 2
}
