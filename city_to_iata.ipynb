{
 "cells": [
  {
   "cell_type": "code",
   "execution_count": 2,
   "metadata": {},
   "outputs": [],
   "source": [
    "from langchain.vectorstores import FAISS\n",
    "from langchain.embeddings import OpenAIEmbeddings\n",
    "import dotenv\n",
    "\n",
    "dotenv.load_dotenv()\n",
    "\n",
    "# Initialize the embeddings (this must match what was used to create the vector store)\n",
    "embeddings = OpenAIEmbeddings()  # Requires your OpenAI API key\n",
    "\n",
    "# Load the FAISS vector store\n",
    "vector_store = FAISS.load_local(\"faiss_index\", embeddings,allow_dangerous_deserialization=True)"
   ]
  },
  {
   "cell_type": "code",
   "execution_count": 3,
   "metadata": {},
   "outputs": [],
   "source": [
    "def get_iata_code(city_name: str, vector_store) -> str:\n",
    "    \"\"\"\n",
    "    Retrieve the IATA code for a given city name using the FAISS vector store.\n",
    "\n",
    "    Args:\n",
    "        city_name (str): The name of the city to query.\n",
    "        vector_store: The FAISS vector store containing city data.\n",
    "\n",
    "    Returns:\n",
    "        str: The IATA code of the closest matching city or an error message.\n",
    "    \"\"\"\n",
    "    # Perform a similarity search on the vector store\n",
    "    results = vector_store.similarity_search(city_name, k=1)\n",
    "    if results:\n",
    "        return results[0].page_content  # Return the matched text (which includes the IATA code)\n",
    "    return f\"No matching IATA code found for city: {city_name}\""
   ]
  },
  {
   "cell_type": "code",
   "execution_count": 8,
   "metadata": {},
   "outputs": [
    {
     "data": {
      "text/plain": [
       "'Kiri Airport in Kiri (KRZ)'"
      ]
     },
     "execution_count": 8,
     "metadata": {},
     "output_type": "execute_result"
    }
   ],
   "source": [
    "get_iata_code('Krachiii',vector_store)"
   ]
  },
  {
   "cell_type": "code",
   "execution_count": null,
   "metadata": {},
   "outputs": [],
   "source": []
  }
 ],
 "metadata": {
  "kernelspec": {
   "display_name": "env",
   "language": "python",
   "name": "python3"
  },
  "language_info": {
   "codemirror_mode": {
    "name": "ipython",
    "version": 3
   },
   "file_extension": ".py",
   "mimetype": "text/x-python",
   "name": "python",
   "nbconvert_exporter": "python",
   "pygments_lexer": "ipython3",
   "version": "3.12.3"
  }
 },
 "nbformat": 4,
 "nbformat_minor": 2
}
