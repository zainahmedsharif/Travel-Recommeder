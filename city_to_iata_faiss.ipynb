{
 "cells": [
  {
   "cell_type": "code",
   "execution_count": 10,
   "metadata": {},
   "outputs": [
    {
     "data": {
      "text/html": [
       "<div>\n",
       "<style scoped>\n",
       "    .dataframe tbody tr th:only-of-type {\n",
       "        vertical-align: middle;\n",
       "    }\n",
       "\n",
       "    .dataframe tbody tr th {\n",
       "        vertical-align: top;\n",
       "    }\n",
       "\n",
       "    .dataframe thead th {\n",
       "        text-align: right;\n",
       "    }\n",
       "</style>\n",
       "<table border=\"1\" class=\"dataframe\">\n",
       "  <thead>\n",
       "    <tr style=\"text-align: right;\">\n",
       "      <th></th>\n",
       "      <th>name</th>\n",
       "      <th>municipality</th>\n",
       "      <th>iata_code</th>\n",
       "      <th>type</th>\n",
       "    </tr>\n",
       "  </thead>\n",
       "  <tbody>\n",
       "    <tr>\n",
       "      <th>0</th>\n",
       "      <td>Utirik Airport</td>\n",
       "      <td>Utirik Island</td>\n",
       "      <td>UTK</td>\n",
       "      <td>small_airport</td>\n",
       "    </tr>\n",
       "    <tr>\n",
       "      <th>1</th>\n",
       "      <td>Ocean Reef Club Airport</td>\n",
       "      <td>Key Largo</td>\n",
       "      <td>OCA</td>\n",
       "      <td>small_airport</td>\n",
       "    </tr>\n",
       "    <tr>\n",
       "      <th>2</th>\n",
       "      <td>Cuddihy Field</td>\n",
       "      <td>Corpus Christi</td>\n",
       "      <td>CUX</td>\n",
       "      <td>small_airport</td>\n",
       "    </tr>\n",
       "    <tr>\n",
       "      <th>3</th>\n",
       "      <td>Crested Butte Airpark</td>\n",
       "      <td>Crested Butte</td>\n",
       "      <td>CSE</td>\n",
       "      <td>small_airport</td>\n",
       "    </tr>\n",
       "    <tr>\n",
       "      <th>4</th>\n",
       "      <td>Columbus Airport</td>\n",
       "      <td>Columbus</td>\n",
       "      <td>CUS</td>\n",
       "      <td>small_airport</td>\n",
       "    </tr>\n",
       "  </tbody>\n",
       "</table>\n",
       "</div>"
      ],
      "text/plain": [
       "                      name    municipality iata_code           type\n",
       "0           Utirik Airport   Utirik Island       UTK  small_airport\n",
       "1  Ocean Reef Club Airport       Key Largo       OCA  small_airport\n",
       "2            Cuddihy Field  Corpus Christi       CUX  small_airport\n",
       "3    Crested Butte Airpark   Crested Butte       CSE  small_airport\n",
       "4         Columbus Airport        Columbus       CUS  small_airport"
      ]
     },
     "execution_count": 10,
     "metadata": {},
     "output_type": "execute_result"
    }
   ],
   "source": [
    "import pandas as pd\n",
    "\n",
    "# Load the data\n",
    "csv_path = \"airports.csv\"  # Replace with your file path\n",
    "data = pd.read_csv(csv_path)\n",
    "\n",
    "cleaned_data = data[[\"name\", \"municipality\", \"iata_code\", \"type\"]]\n",
    "\n",
    "cleaned_data = cleaned_data[cleaned_data[\"iata_code\"].notna()]\n",
    "\n",
    "cleaned_data = cleaned_data[cleaned_data[\"type\"] != \"closed\"]\n",
    "\n",
    "cleaned_data.reset_index(drop=True, inplace=True)\n",
    "\n",
    "cleaned_data.to_csv(\"airports_cleaned.csv\", index=False)\n",
    "\n",
    "cleaned_data.head()"
   ]
  },
  {
   "cell_type": "code",
   "execution_count": 30,
   "metadata": {},
   "outputs": [],
   "source": [
    "from langchain.embeddings import OpenAIEmbeddings\n",
    "from langchain.vectorstores import FAISS\n",
    "from dotenv import load_dotenv\n",
    "\n",
    "load_dotenv()\n",
    "\n",
    "# Combine relevant columns into a single text field\n",
    "cleaned_data[\"text\"] = cleaned_data[\"name\"].astype('str')  + \" in \" + cleaned_data[\"municipality\"].astype('str')  + \" (\" + cleaned_data[\"iata_code\"].astype('str') + \")\"\n",
    "\n",
    "# Create embeddings\n",
    "embeddings = OpenAIEmbeddings()  # Requires OpenAI API key\n",
    "vector_store = FAISS.from_texts(cleaned_data[\"text\"].tolist(), embeddings)"
   ]
  },
  {
   "cell_type": "code",
   "execution_count": 31,
   "metadata": {},
   "outputs": [],
   "source": [
    "vector_store.save_local(\"faiss_index\")"
   ]
  },
  {
   "cell_type": "code",
   "execution_count": null,
   "metadata": {},
   "outputs": [],
   "source": []
  },
  {
   "cell_type": "code",
   "execution_count": 28,
   "metadata": {},
   "outputs": [
    {
     "name": "stdout",
     "output_type": "stream",
     "text": [
      "[<class 'str'>]\n"
     ]
    }
   ],
   "source": [
    "print(cleaned_data[\"text\"].apply(type).unique())  # Check data types in the column"
   ]
  },
  {
   "cell_type": "code",
   "execution_count": null,
   "metadata": {},
   "outputs": [],
   "source": []
  }
 ],
 "metadata": {
  "kernelspec": {
   "display_name": "env",
   "language": "python",
   "name": "python3"
  },
  "language_info": {
   "codemirror_mode": {
    "name": "ipython",
    "version": 3
   },
   "file_extension": ".py",
   "mimetype": "text/x-python",
   "name": "python",
   "nbconvert_exporter": "python",
   "pygments_lexer": "ipython3",
   "version": "3.12.3"
  }
 },
 "nbformat": 4,
 "nbformat_minor": 2
}
