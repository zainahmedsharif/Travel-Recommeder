{
 "cells": [
  {
   "cell_type": "code",
   "execution_count": null,
   "metadata": {},
   "outputs": [],
   "source": [
    "from langchain.tools import Tool\n",
    "import requests\n",
    "from dotenv import load_dotenv\n",
    "import os\n",
    "\n",
    "# Load environment variables\n",
    "load_dotenv()\n",
    "\n",
    "# Get API key from environment variables\n",
    "API_KEY = os.getenv(\"OPENWEATHER_API_KEY\")\n",
    "\n",
    "def weather_data_fetcher(city:str) -> str:\n",
    "    '''\n",
    "    Fetches weather data for city using open_weather_api\n",
    "    '''\n",
    "    base_url = \"https://api.openweathermap.org/data/2.5/weather\"\n",
    "    params = {\n",
    "        \"q\": city,\n",
    "        \"appid\": API_KEY,\n",
    "        \"units\": \"metric\"  # Metric system (Celsius)\n",
    "    }\n",
    "\n",
    "    response = requests.get(base_url,params=params)\n",
    "    if response.status_code == 200:\n",
    "        data = response.json()\n",
    "        temperature = data[\"main\"][\"temp\"]\n",
    "        condition = data[\"weather\"][0][\"description\"]\n",
    "        return f\"The current temperature in {city} is {temperature}°C with {condition}.\"\n",
    "    else:\n",
    "        return f\"Unable to fetch weather for {city}. Please check the city name or try again later.\""
   ]
  },
  {
   "cell_type": "code",
   "execution_count": 7,
   "metadata": {},
   "outputs": [
    {
     "name": "stdout",
     "output_type": "stream",
     "text": [
      "The current temperature in paris is 5.85°C with light rain.\n"
     ]
    }
   ],
   "source": [
    "weather_tool = Tool(\n",
    "    name=\"Weather Fetcher\",\n",
    "    func=weather_data_fetcher,\n",
    "    description=\"Fetches the current weather for a specified city.\"\n",
    ")\n",
    "\n",
    "if __name__ == \"__main__\":\n",
    "    city = input(\"Enter a city name: \")\n",
    "    print(weather_tool.run(city))"
   ]
  },
  {
   "cell_type": "code",
   "execution_count": null,
   "metadata": {},
   "outputs": [],
   "source": []
  }
 ],
 "metadata": {
  "kernelspec": {
   "display_name": "env",
   "language": "python",
   "name": "python3"
  },
  "language_info": {
   "codemirror_mode": {
    "name": "ipython",
    "version": 3
   },
   "file_extension": ".py",
   "mimetype": "text/x-python",
   "name": "python",
   "nbconvert_exporter": "python",
   "pygments_lexer": "ipython3",
   "version": "3.12.3"
  }
 },
 "nbformat": 4,
 "nbformat_minor": 2
}
