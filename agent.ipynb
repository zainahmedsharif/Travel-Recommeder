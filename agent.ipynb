{
 "cells": [
  {
   "cell_type": "code",
   "execution_count": 1,
   "metadata": {},
   "outputs": [
    {
     "name": "stderr",
     "output_type": "stream",
     "text": [
      "/home/zain/my_travel_recommender/flight_tool.py:17: LangChainDeprecationWarning: The class `ChatOpenAI` was deprecated in LangChain 0.0.10 and will be removed in 1.0. An updated version of the class exists in the :class:`~langchain-openai package and should be used instead. To use it run `pip install -U :class:`~langchain-openai` and import as `from :class:`~langchain_openai import ChatOpenAI``.\n",
      "  llm = ChatOpenAI(temperature=0.7, openai_api_key=os.getenv(\"OPENAI_API_KEY\"))\n"
     ]
    }
   ],
   "source": [
    "import os\n",
    "import json\n",
    "import requests\n",
    "from datetime import datetime, timedelta\n",
    "from amadeus import Client, ResponseError\n",
    "from dotenv import load_dotenv\n",
    "from langchain.prompts import PromptTemplate\n",
    "from langchain.chat_models import ChatOpenAI\n",
    "from langchain.tools import Tool\n",
    "from langchain.agents import initialize_agent\n",
    "from langchain.agents.agent_types import AgentType\n",
    "from date_time_tool import datetime_tool\n",
    "from weather_fetcher_tool import weather_tool\n",
    "from flight_tool import flight_inspiration_tool\n",
    "# Load environment variables\n",
    "load_dotenv()\n",
    "\n",
    "\n",
    "llm = ChatOpenAI(temperature=0.7, openai_api_key=os.getenv(\"OPENAI_API_KEY\"))\n",
    "\n"
   ]
  },
  {
   "cell_type": "code",
   "execution_count": 2,
   "metadata": {},
   "outputs": [
    {
     "name": "stderr",
     "output_type": "stream",
     "text": [
      "/home/zain/my_travel_recommender/flight_tool.py:78: LangChainDeprecationWarning: The method `BaseChatModel.predict` was deprecated in langchain-core 0.1.7 and will be removed in 1.0. Use :meth:`~invoke` instead.\n",
      "  response = llm.predict(formatted_prompt)\n"
     ]
    },
    {
     "name": "stdout",
     "output_type": "stream",
     "text": [
      "{'origin': 'MAD', 'departure_date': '2025-03-14', 'max_price': 200}\n",
      "Destination: LIS, Price: $57.42, Departure Date: 2025-03-14\n",
      "Destination: PMI, Price: $60.49, Departure Date: 2025-03-14\n",
      "Destination: OPO, Price: $68.30, Departure Date: 2025-03-14\n",
      "Destination: LPA, Price: $69.89, Departure Date: 2025-03-14\n",
      "Destination: MXP, Price: $77.35, Departure Date: 2025-03-14\n",
      "Destination: FCO, Price: $99.79, Departure Date: 2025-03-14\n",
      "Destination: ORY, Price: $123.19, Departure Date: 2025-03-14\n",
      "Destination: RAK, Price: $171.87, Departure Date: 2025-03-14\n",
      "Destination: LHR, Price: $177.10, Departure Date: 2025-03-14\n",
      "Destination: AMS, Price: $177.43, Departure Date: 2025-03-14\n"
     ]
    }
   ],
   "source": [
    "# Example Usage\n",
    "user_query = \"Find me travel destinations from MAD in the next 2 months under 200 dollars\"\n",
    "result = flight_inspiration_tool.run(user_query)\n",
    "\n",
    "# Output the results\n",
    "if isinstance(result, dict) and \"error\" in result:\n",
    "    print(result[\"error\"])\n",
    "else:\n",
    "    for destination in result:\n",
    "        print(f\"Destination: {destination['destination']}, \"\n",
    "              f\"Price: ${destination['price']}, \"\n",
    "              f\"Departure Date: {destination['departure_date']}\")"
   ]
  },
  {
   "cell_type": "code",
   "execution_count": 3,
   "metadata": {},
   "outputs": [
    {
     "name": "stderr",
     "output_type": "stream",
     "text": [
      "/tmp/ipykernel_91327/879684908.py:5: LangChainDeprecationWarning: LangChain agents will continue to be supported, but it is recommended for new use cases to be built with LangGraph. LangGraph offers a more flexible and full-featured framework for building agents, including support for tool-calling, persistence of state, and human-in-the-loop workflows. See LangGraph documentation for more details: https://langchain-ai.github.io/langgraph/. Refer here for its pre-built ReAct agent: https://langchain-ai.github.io/langgraph/how-tos/create-react-agent/\n",
      "  agent = initialize_agent(\n"
     ]
    }
   ],
   "source": [
    "# Register tools\n",
    "tools = [flight_inspiration_tool, weather_tool,datetime_tool]\n",
    "\n",
    "# Create the agent\n",
    "agent = initialize_agent(\n",
    "    tools=tools,\n",
    "    llm=llm,\n",
    "    agent=AgentType.ZERO_SHOT_REACT_DESCRIPTION,\n",
    "    verbose=True\n",
    ")"
   ]
  },
  {
   "cell_type": "code",
   "execution_count": null,
   "metadata": {},
   "outputs": [
    {
     "name": "stderr",
     "output_type": "stream",
     "text": [
      "/tmp/ipykernel_91327/1245204814.py:1: LangChainDeprecationWarning: The method `Chain.run` was deprecated in langchain 0.1.0 and will be removed in 1.0. Use :meth:`~invoke` instead.\n",
      "  response = agent.run(query)\n"
     ]
    },
    {
     "name": "stdout",
     "output_type": "stream",
     "text": [
      "\n",
      "\n",
      "\u001b[1m> Entering new AgentExecutor chain...\u001b[0m\n",
      "\u001b[32;1m\u001b[1;3mWe need to find a warm destination from Madrid on the specified date.\n",
      "\n",
      "Action: Weather Fetcher\n",
      "Action Input: {\"iata_code\": \"MAD\", \"target_date\": \"2025-02-15\"}\u001b[0mType of inputs at start: <class 'str'>\n",
      "Value of inputs at start: {\"iata_code\": \"MAD\", \"target_date\": \"2025-02-15\"}\n",
      "\n",
      "Observation: \u001b[33;1m\u001b[1;3mThe average temperature at MAD over the last 2 years from 2025-02-15 is 1.48°C.\u001b[0m\n",
      "Thought:\u001b[32;1m\u001b[1;3mMadrid might not be warm on 15-02-2025. Let's find a warm travel destination.\n",
      "\n",
      "Action: Flight Inspiration Search\n",
      "Action Input: user_query(\"Madrid to warm destination on 15-02-2025\")\u001b[0m{'origin': 'MAD', 'departure_date': '2025-02-15', 'max_price': None}\n",
      "\n",
      "Observation: \u001b[36;1m\u001b[1;3m[{'destination': 'PMI', 'price': '50.49', 'departure_date': '2025-02-15'}, {'destination': 'LIS', 'price': '57.42', 'departure_date': '2025-02-15'}, {'destination': 'OPO', 'price': '58.30', 'departure_date': '2025-02-15'}, {'destination': 'LPA', 'price': '69.89', 'departure_date': '2025-02-15'}, {'destination': 'ORY', 'price': '100.19', 'departure_date': '2025-02-15'}, {'destination': 'LGW', 'price': '112.87', 'departure_date': '2025-02-15'}, {'destination': 'MXP', 'price': '132.03', 'departure_date': '2025-02-15'}, {'destination': 'FCO', 'price': '132.79', 'departure_date': '2025-02-15'}, {'destination': 'AMS', 'price': '137.43', 'departure_date': '2025-02-15'}, {'destination': 'RAK', 'price': '181.87', 'departure_date': '2025-02-15'}, {'destination': 'EWR', 'price': '384.68', 'departure_date': '2025-02-15'}, {'destination': 'MIA', 'price': '465.16', 'departure_date': '2025-02-15'}, {'destination': 'LAX', 'price': '530.02', 'departure_date': '2025-02-15'}, {'destination': 'CUN', 'price': '608.46', 'departure_date': '2025-02-15'}, {'destination': 'BKK', 'price': '630.12', 'departure_date': '2025-02-15'}]\u001b[0m\n",
      "Thought:\u001b[32;1m\u001b[1;3mBased on the Flight Inspiration Search results, a warm travel destination from Madrid on 15-02-2025 could be Palma de Mallorca (PMI) with a price of 50.49. \n",
      "\n",
      "Final Answer: Palma de Mallorca (PMI) is a warm travel destination from Madrid on 15-02-2025.\u001b[0m\n",
      "\n",
      "\u001b[1m> Finished chain.\u001b[0m\n",
      "Palma de Mallorca (PMI) is a warm travel destination from Madrid on 15-02-2025.\n"
     ]
    }
   ],
   "source": [
    "# Prompt the user to input their query\n",
    "user_query = input(\"Please enter your query: \")\n",
    "\n",
    "# Use the user's query with the agent\n",
    "response = agent.run(user_query)\n",
    "\n",
    "# Print the response\n",
    "print(response)"
   ]
  },
  {
   "cell_type": "code",
   "execution_count": null,
   "metadata": {},
   "outputs": [],
   "source": []
  },
  {
   "cell_type": "code",
   "execution_count": null,
   "metadata": {},
   "outputs": [],
   "source": []
  }
 ],
 "metadata": {
  "kernelspec": {
   "display_name": "env",
   "language": "python",
   "name": "python3"
  },
  "language_info": {
   "codemirror_mode": {
    "name": "ipython",
    "version": 3
   },
   "file_extension": ".py",
   "mimetype": "text/x-python",
   "name": "python",
   "nbconvert_exporter": "python",
   "pygments_lexer": "ipython3",
   "version": "3.12.3"
  }
 },
 "nbformat": 4,
 "nbformat_minor": 2
}
